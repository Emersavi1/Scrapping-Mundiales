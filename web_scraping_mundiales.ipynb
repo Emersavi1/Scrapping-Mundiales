{
  "nbformat": 4,
  "nbformat_minor": 0,
  "metadata": {
    "colab": {
      "provenance": []
    },
    "kernelspec": {
      "name": "python3",
      "display_name": "Python 3"
    },
    "language_info": {
      "name": "python"
    }
  },
  "cells": [
    {
      "cell_type": "code",
      "execution_count": 1,
      "metadata": {
        "id": "PhjeCUpA4lt2"
      },
      "outputs": [],
      "source": [
        "from bs4 import BeautifulSoup\n",
        "import requests\n",
        "import pandas as pd\n",
        "\n"
      ]
    },
    {
      "cell_type": "code",
      "source": [
        "years = [1930, 1934, 1938, 1950, 1958, 1962, 1966, 1970, 1974, 1978, 1982, 1986, 1990, 1994, 1998, 2002, 2006, 2010, 2014, 2018]"
      ],
      "metadata": {
        "id": "mSLzQLpZ5FZm"
      },
      "execution_count": 2,
      "outputs": []
    },
    {
      "cell_type": "code",
      "source": [
        "def get_matches(year):\n",
        "    web = f'https://en.wikipedia.org/wiki/{year}_FIFA_World_Cup'\n",
        "    response = requests.get(web)\n",
        "    content = response.text\n",
        "    soup = BeautifulSoup(content, 'lxml')\n",
        "\n",
        "    matches = soup.find_all('div', class_='footballbox')\n",
        "\n",
        "    home = []\n",
        "    score = []\n",
        "    away = []\n",
        "\n",
        "    for match in matches:\n",
        "        home.append(match.find('th', class_='fhome').get_text())\n",
        "        score.append(match.find('th', class_='fscore').get_text())\n",
        "        away.append(match.find('th', class_='faway').get_text())\n",
        "\n",
        "    dict_football ={'home': home, 'score': score, 'away': away}\n",
        "    df_football = pd.DataFrame(dict_football)\n",
        "    df_football['year']= year\n",
        "    return df_football\n",
        "\n",
        "print(get_matches(1990))\n",
        "\n"
      ],
      "metadata": {
        "colab": {
          "base_uri": "https://localhost:8080/"
        },
        "id": "fS7XmHmU5tFk",
        "outputId": "106fd829-13cb-4a0e-b8c8-b614353d63a6"
      },
      "execution_count": 4,
      "outputs": [
        {
          "output_type": "stream",
          "name": "stdout",
          "text": [
            "                    home         score           away  year\n",
            "0              Cameroon   2–1 (a.e.t.)       Colombia  1990\n",
            "1        Czechoslovakia            4–1     Costa Rica  1990\n",
            "2                Brazil            0–1      Argentina  1990\n",
            "3          West Germany            2–1    Netherlands  1990\n",
            "4   Republic of Ireland   0–0 (a.e.t.)        Romania  1990\n",
            "5                 Italy            2–0        Uruguay  1990\n",
            "6                 Spain   1–2 (a.e.t.)     Yugoslavia  1990\n",
            "7               England   1–0 (a.e.t.)        Belgium  1990\n",
            "8             Argentina   0–0 (a.e.t.)     Yugoslavia  1990\n",
            "9   Republic of Ireland            0–1          Italy  1990\n",
            "10       Czechoslovakia            0–1   West Germany  1990\n",
            "11             Cameroon   2–3 (a.e.t.)        England  1990\n",
            "12            Argentina   1–1 (a.e.t.)          Italy  1990\n",
            "13         West Germany   1–1 (a.e.t.)        England  1990\n",
            "14                Italy            2–1        England  1990\n",
            "15         West Germany            1–0      Argentina  1990\n"
          ]
        }
      ]
    },
    {
      "cell_type": "code",
      "source": [],
      "metadata": {
        "id": "O0ZNWpOq4grE"
      },
      "execution_count": null,
      "outputs": []
    }
  ]
}